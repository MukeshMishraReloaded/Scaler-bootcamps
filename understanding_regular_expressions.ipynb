{
  "nbformat": 4,
  "nbformat_minor": 0,
  "metadata": {
    "colab": {
      "provenance": [],
      "include_colab_link": true
    },
    "kernelspec": {
      "name": "python3",
      "display_name": "Python 3"
    },
    "language_info": {
      "name": "python"
    }
  },
  "cells": [
    {
      "cell_type": "markdown",
      "metadata": {
        "id": "view-in-github",
        "colab_type": "text"
      },
      "source": [
        "<a href=\"https://colab.research.google.com/github/MukeshMishraReloaded/Scaler-bootcamps/blob/main/understanding_regular_expressions.ipynb\" target=\"_parent\"><img src=\"https://colab.research.google.com/assets/colab-badge.svg\" alt=\"Open In Colab\"/></a>"
      ]
    },
    {
      "cell_type": "code",
      "execution_count": null,
      "metadata": {
        "colab": {
          "base_uri": "https://localhost:8080/"
        },
        "id": "CTcuvufmBKW_",
        "outputId": "9df2e911-b71d-41f3-8b7a-67b7dc70e395"
      },
      "outputs": [
        {
          "output_type": "stream",
          "name": "stdout",
          "text": [
            "Downloading...\n",
            "From: https://drive.google.com/uc?id=1sSDV5UspYZL3UUOGuiuxppSGcv1wS9ex\n",
            "To: /content/data.txt\n",
            "\r  0% 0.00/9.33k [00:00<?, ?B/s]\r100% 9.33k/9.33k [00:00<00:00, 29.0MB/s]\n"
          ]
        }
      ],
      "source": [
        "!gdown 1sSDV5UspYZL3UUOGuiuxppSGcv1wS9ex"
      ]
    },
    {
      "cell_type": "code",
      "source": [
        "data = open(\"data.txt\", \"r\").read()\n",
        "print(data[:500])"
      ],
      "metadata": {
        "colab": {
          "base_uri": "https://localhost:8080/"
        },
        "id": "17Yiut2942ip",
        "outputId": "6b77af51-db34-40d8-9557-e873d3ddb553"
      },
      "execution_count": null,
      "outputs": [
        {
          "output_type": "stream",
          "name": "stdout",
          "text": [
            "Dave Martin\n",
            "615-555-7164\n",
            "173 Main St., Springfield RI 55924\n",
            "davemartin@bogusemail.com\n",
            "\n",
            "Charles Harris\n",
            "800-555-5669\n",
            "969 High St., Atlantis VA 34075\n",
            "charlesharris@bogusemail.com\n",
            "\n",
            "Eric Williams\n",
            "560-555-5153\n",
            "806 1st St., Faketown AK 86847\n",
            "laurawilliams@bogusemail.com\n",
            "\n",
            "Corey Jefferson\n",
            "900-555-9340\n",
            "826 Elm St., Epicburg NE 10671\n",
            "coreyjefferson@bogusemail.com\n",
            "\n",
            "Jennifer Martin-White\n",
            "714-555-7405\n",
            "212 Cedar St., Sunnydale CT 74983\n",
            "jenniferwhite@bogusemail.com\n",
            "\n",
            "Erick Davis\n",
            "800-555-6771\n",
            "519 Washington St., \n"
          ]
        }
      ]
    },
    {
      "cell_type": "code",
      "source": [
        "## write a function to mask email addresses\n",
        "## sample: abcd@gmail.com --> a####d@gmail.com\n",
        "\n",
        "def mask_email(email):\n",
        "    if \"@\" in email:\n",
        "        name, domain = email.split(\"@\")\n",
        "        return f\"{name[0]}####{name[-1]}@{domain}\"\n",
        "    else:\n",
        "        return \"Invalid Email Address\""
      ],
      "metadata": {
        "id": "bpM_7bGb5AzN"
      },
      "execution_count": null,
      "outputs": []
    },
    {
      "cell_type": "code",
      "source": [
        "email_1 = \"abcd@gmail.com\"\n",
        "mask_email(email_1)"
      ],
      "metadata": {
        "colab": {
          "base_uri": "https://localhost:8080/",
          "height": 35
        },
        "id": "jBQUTExr7Rx1",
        "outputId": "24ef7852-8c5e-4b15-a654-244cce00e842"
      },
      "execution_count": null,
      "outputs": [
        {
          "output_type": "execute_result",
          "data": {
            "text/plain": [
              "'a####d@gmail.com'"
            ],
            "application/vnd.google.colaboratory.intrinsic+json": {
              "type": "string"
            }
          },
          "metadata": {},
          "execution_count": 6
        }
      ]
    },
    {
      "cell_type": "code",
      "source": [
        "mask_email(\"harshit.tyagi@scaler.com\")"
      ],
      "metadata": {
        "colab": {
          "base_uri": "https://localhost:8080/",
          "height": 35
        },
        "id": "7s6WrURE7W8b",
        "outputId": "e11e4989-e073-4a65-af39-75bd51e34a42"
      },
      "execution_count": null,
      "outputs": [
        {
          "output_type": "execute_result",
          "data": {
            "text/plain": [
              "'h####i@scaler.com'"
            ],
            "application/vnd.google.colaboratory.intrinsic+json": {
              "type": "string"
            }
          },
          "metadata": {},
          "execution_count": 7
        }
      ]
    },
    {
      "cell_type": "code",
      "source": [
        "mask_email(\"harshit.tyagiscaler.com\")"
      ],
      "metadata": {
        "colab": {
          "base_uri": "https://localhost:8080/",
          "height": 35
        },
        "id": "PKBry4ZZ8bQI",
        "outputId": "0587f690-3070-48b7-e26e-7bf5531f4c34"
      },
      "execution_count": null,
      "outputs": [
        {
          "output_type": "execute_result",
          "data": {
            "text/plain": [
              "'Invalid Email Address'"
            ],
            "application/vnd.google.colaboratory.intrinsic+json": {
              "type": "string"
            }
          },
          "metadata": {},
          "execution_count": 12
        }
      ]
    },
    {
      "cell_type": "markdown",
      "source": [
        "## Regex - Regular Expressions come into action!"
      ],
      "metadata": {
        "id": "CCsBkgWV9jqN"
      }
    },
    {
      "cell_type": "code",
      "source": [
        "import re\n",
        "\n",
        "def is_valid_email(ip):\n",
        "    email_pattern = \"^\\w+([\\.-]?\\w+)*@\\w+([|.-]?\\w+)*(\\.\\w{2,3})+$\"\n",
        "    result = re.search(email_pattern, ip)\n",
        "    print(result)\n",
        "    ## scan through string looking for the first location where the pattern is found\n",
        "    if result:\n",
        "        return True\n",
        "    else:\n",
        "        return False\n"
      ],
      "metadata": {
        "id": "GClyn_EL8q8h"
      },
      "execution_count": null,
      "outputs": []
    },
    {
      "cell_type": "code",
      "source": [
        "is_valid_email(\"harshitscaler.com\")"
      ],
      "metadata": {
        "colab": {
          "base_uri": "https://localhost:8080/"
        },
        "id": "ssnNin2q-l_K",
        "outputId": "293e6e7c-9b4f-4ac9-97b7-0a92a2713977"
      },
      "execution_count": null,
      "outputs": [
        {
          "output_type": "stream",
          "name": "stdout",
          "text": [
            "None\n"
          ]
        },
        {
          "output_type": "execute_result",
          "data": {
            "text/plain": [
              "False"
            ]
          },
          "metadata": {},
          "execution_count": 17
        }
      ]
    },
    {
      "cell_type": "code",
      "source": [
        "is_valid_email(\"abcd@xy.sx\")"
      ],
      "metadata": {
        "colab": {
          "base_uri": "https://localhost:8080/"
        },
        "id": "Uexq2N5f-pjQ",
        "outputId": "4fd980a3-1cf3-435a-f200-68107aaf61e4"
      },
      "execution_count": null,
      "outputs": [
        {
          "output_type": "stream",
          "name": "stdout",
          "text": [
            "<re.Match object; span=(0, 10), match='abcd@xy.sx'>\n"
          ]
        },
        {
          "output_type": "execute_result",
          "data": {
            "text/plain": [
              "True"
            ]
          },
          "metadata": {},
          "execution_count": 18
        }
      ]
    },
    {
      "cell_type": "code",
      "source": [
        "is_valid_email(\"harshit.tyagi@scaler-academy.co.in\")"
      ],
      "metadata": {
        "colab": {
          "base_uri": "https://localhost:8080/"
        },
        "id": "bQwqAaWC_f8i",
        "outputId": "236a5cbb-764a-4ee5-ad61-dcac7e53efcb"
      },
      "execution_count": null,
      "outputs": [
        {
          "output_type": "stream",
          "name": "stdout",
          "text": [
            "<re.Match object; span=(0, 34), match='harshit.tyagi@scaler-academy.co.in'>\n"
          ]
        },
        {
          "output_type": "execute_result",
          "data": {
            "text/plain": [
              "True"
            ]
          },
          "metadata": {},
          "execution_count": 19
        }
      ]
    },
    {
      "cell_type": "code",
      "source": [
        "is_valid_email(\"harshit.tyagi@iiit.ac.in\")"
      ],
      "metadata": {
        "colab": {
          "base_uri": "https://localhost:8080/"
        },
        "id": "KnGoqptH_mB4",
        "outputId": "fb17f496-921b-4fce-e348-592467ed445c"
      },
      "execution_count": null,
      "outputs": [
        {
          "output_type": "stream",
          "name": "stdout",
          "text": [
            "<re.Match object; span=(0, 24), match='harshit.tyagi@iiit.ac.in'>\n"
          ]
        },
        {
          "output_type": "execute_result",
          "data": {
            "text/plain": [
              "True"
            ]
          },
          "metadata": {},
          "execution_count": 20
        }
      ]
    },
    {
      "cell_type": "code",
      "source": [
        "is_valid_email(\"harshit@tyagi@iiit.ac.in\")"
      ],
      "metadata": {
        "colab": {
          "base_uri": "https://localhost:8080/"
        },
        "id": "-J6paUNm_uX8",
        "outputId": "d99f5b8f-5b8b-4d16-d56f-1eb09b7ce586"
      },
      "execution_count": null,
      "outputs": [
        {
          "output_type": "stream",
          "name": "stdout",
          "text": [
            "None\n"
          ]
        },
        {
          "output_type": "execute_result",
          "data": {
            "text/plain": [
              "False"
            ]
          },
          "metadata": {},
          "execution_count": 21
        }
      ]
    },
    {
      "cell_type": "code",
      "source": [
        "is_valid_email(\"harshit.tyagi@iiit\")"
      ],
      "metadata": {
        "colab": {
          "base_uri": "https://localhost:8080/"
        },
        "id": "yInw4Kls_1k9",
        "outputId": "47b89308-7564-4ed2-93a7-30949e43dead"
      },
      "execution_count": null,
      "outputs": [
        {
          "output_type": "stream",
          "name": "stdout",
          "text": [
            "None\n"
          ]
        },
        {
          "output_type": "execute_result",
          "data": {
            "text/plain": [
              "False"
            ]
          },
          "metadata": {},
          "execution_count": 23
        }
      ]
    },
    {
      "cell_type": "markdown",
      "source": [
        "`\"^\\w+([\\.-]?\\w+)*@\\w+([|.-]?\\w+)*(\\.\\w{2,3})+$\"` is my regular expression that is finding the patterns in the input text."
      ],
      "metadata": {
        "id": "4hwu034gAHju"
      }
    },
    {
      "cell_type": "markdown",
      "source": [
        "## What is a regular expression (regex)?\n",
        "Tiny highly specialised programming language which can be used to find patterns in the textual data.\n",
        "\n",
        "## How to write these regular expression?"
      ],
      "metadata": {
        "id": "tgstXYAAARHa"
      }
    },
    {
      "cell_type": "markdown",
      "source": [
        "```\n",
        ". - Any Character Except New Line\n",
        "\\d - Digit (0-9)\n",
        "\\D - Not a Digit (0-9)\n",
        "\\w - Word Character (a-z, A-Z, 0-9, _)\n",
        "\\W - Not a Word Character\n",
        "\\s - Whitespace (space, tab, newline)\n",
        "\\S - Not Whitespace (space, tab, newline)\n",
        "\n",
        "-- Anchors\n",
        "\\b - Word Boundary\n",
        "\\B - Not a Word Boundary\n",
        "^ - Beginning of a String\n",
        "$ - End of a String\n",
        "\n",
        "-- Character Sets\n",
        "[] - Matches Characters in brackets\n",
        "[^ ] - Matches Characters NOT in brackets\n",
        "| - Either Or\n",
        "( ) - Group\n",
        "\n",
        "```\n"
      ],
      "metadata": {
        "id": "73j5WT9ADb3C"
      }
    },
    {
      "cell_type": "markdown",
      "source": [
        "## Quantifers\n",
        "\n",
        "Available quantifiers:\n",
        "```\n",
        "* - 0 or More\n",
        "+ - 1 or More\n",
        "? - 0 or One\n",
        "{3} - Exact Number\n",
        "{3,4} - Range of Numbers (Minimum, Maximum)\n",
        "```"
      ],
      "metadata": {
        "id": "IY0LLhL-MG1n"
      }
    },
    {
      "cell_type": "code",
      "source": [
        "regex = '^\\w+([\\.-]?\\w+)*@\\w+([\\.-]?\\w+)*(\\.\\w{2,3})+$'"
      ],
      "metadata": {
        "id": "Y1tguRmC_6cF"
      },
      "execution_count": null,
      "outputs": []
    },
    {
      "cell_type": "markdown",
      "source": [
        "1. `^` means start and `$` means end\n",
        "2. `\\w+` means alphanumeric, one or more times\n",
        "3. `([\\.-]?\\w+)*` - zero or more such groups; `[\\.-]`either dot or dash, zero or one time `\\w+`- one or more characters\n",
        "4. `@\\w+` - 1 or more word characters after @\n",
        "5. `([\\.-]?\\w+)*` - zero or more times - either dot or dash, followed by words.\n",
        "6. (\\.\\w{2,3})+ - matches . followed by 2 or 3 characters i.e. .com or .in etc.\n",
        "\n",
        "\n"
      ],
      "metadata": {
        "id": "lYGDreJJQbFb"
      }
    },
    {
      "cell_type": "code",
      "source": [
        "import re\n",
        "regex = '^\\w+([\\.-]?\\w+)*@\\w+([\\.-]?\\w+)*(\\.\\w{2,3})+$'\n",
        "\n",
        "reg_pattern = re.compile(r\"\"\"\n",
        "                ^\\w+([\\.-]?\\w+)*    # starts with \\w+ - user\n",
        "                @                   # single @ sign\n",
        "                \\w+([\\.-]?\\w+)*     # domain name\n",
        "                 (\\.\\w{2,3})+$      # .com, .ac, .in., .co\n",
        "                \"\"\", re.VERBOSE | re.IGNORECASE)\n",
        "\n",
        "result = reg_pattern.match(\"abcd@iisc.ac.in\")\n",
        "print(result.string)\n",
        "print(result)"
      ],
      "metadata": {
        "colab": {
          "base_uri": "https://localhost:8080/"
        },
        "id": "IehyjqJURqzI",
        "outputId": "04481d32-eabb-4d57-c7a2-109b2a6bde5e"
      },
      "execution_count": null,
      "outputs": [
        {
          "output_type": "stream",
          "name": "stdout",
          "text": [
            "abcd@iisc.ac.in\n",
            "<re.Match object; span=(0, 15), match='abcd@iisc.ac.in'>\n"
          ]
        }
      ]
    },
    {
      "cell_type": "markdown",
      "source": [
        "## Important functions\n",
        "1. match - checks for a match only at the beginning of the string.\n",
        "2. search - locates the patter in the string\n",
        "3. findall - finds all the occurrences in the string\n",
        "4. finditer - return an iterator yielding matche objects over all non-overlapping matches."
      ],
      "metadata": {
        "id": "XOY84sfsUIML"
      }
    },
    {
      "cell_type": "code",
      "source": [
        "pattern = \"\\d{3}-\\d{3}-\\d{4}\"\n",
        "print(re.match(pattern, data))"
      ],
      "metadata": {
        "colab": {
          "base_uri": "https://localhost:8080/"
        },
        "id": "GEXvSt8YT-rh",
        "outputId": "93948d5a-a17c-4ecb-e6ab-e1187200df16"
      },
      "execution_count": null,
      "outputs": [
        {
          "output_type": "stream",
          "name": "stdout",
          "text": [
            "None\n"
          ]
        }
      ]
    },
    {
      "cell_type": "code",
      "source": [
        "print(re.search(pattern, data))"
      ],
      "metadata": {
        "colab": {
          "base_uri": "https://localhost:8080/"
        },
        "id": "Hvsbh8D-U_v5",
        "outputId": "74df0140-0a35-4aca-8094-5072120bd465"
      },
      "execution_count": null,
      "outputs": [
        {
          "output_type": "stream",
          "name": "stdout",
          "text": [
            "<re.Match object; span=(12, 24), match='615-555-7164'>\n"
          ]
        }
      ]
    },
    {
      "cell_type": "code",
      "source": [
        "print(re.findall(pattern, data))"
      ],
      "metadata": {
        "colab": {
          "base_uri": "https://localhost:8080/"
        },
        "id": "PXbVZSb4VUPA",
        "outputId": "738d8f45-a090-4e68-aba4-488955650220"
      },
      "execution_count": null,
      "outputs": [
        {
          "output_type": "stream",
          "name": "stdout",
          "text": [
            "['615-555-7164', '800-555-5669', '560-555-5153', '900-555-9340', '714-555-7405', '800-555-6771', '783-555-4799', '516-555-4615', '127-555-1867', '608-555-4938', '568-555-6051', '292-555-1875', '900-555-3205', '614-555-1166', '530-555-2676', '470-555-2750', '800-555-6089', '880-555-8319', '777-555-8378', '998-555-7385', '800-555-7100', '903-555-8277', '196-555-5674', '900-555-5118', '905-555-1630', '203-555-3475', '884-555-8444', '904-555-8559', '889-555-7393', '195-555-2405', '321-555-9053', '133-555-1711', '900-555-5428', '760-555-7147', '391-555-6621', '932-555-7724', '609-555-7908', '800-555-8810', '149-555-7657', '130-555-9709', '143-555-9295', '903-555-9878', '574-555-3194', '496-555-7533', '210-555-3757', '900-555-9598', '866-555-9844', '669-555-7159', '152-555-7417', '893-555-9832', '217-555-7123', '786-555-6544', '780-555-2574', '926-555-8735', '895-555-3539', '874-555-3949', '800-555-2420', '936-555-6340', '372-555-9809', '890-555-5618', '670-555-3005', '509-555-5997', '721-555-5632', '900-555-3567', '147-555-6830', '582-555-3426', '400-555-1706', '525-555-1793', '317-555-6700', '974-555-8301', '800-555-3216', '746-555-4094', '922-555-1773', '711-555-4427', '355-555-1872', '852-555-6521', '691-555-5773', '332-555-5441', '900-555-7755', '379-555-3685', '127-555-9682', '789-555-7032', '783-555-5135', '315-555-6507', '481-555-5835', '365-555-8287', '911-555-7535', '681-555-2460', '274-555-9800', '800-555-1372', '300-555-7821', '133-555-3889', '705-555-6863', '215-555-9449', '988-555-6112', '623-555-3006', '192-555-4977', '178-555-4899', '952-555-3089', '900-555-6426']\n"
          ]
        }
      ]
    },
    {
      "cell_type": "code",
      "source": [
        "numbers = re.finditer(pattern, data)\n",
        "for i, num in enumerate(numbers):\n",
        "    print(num)\n",
        "    if (i==5):\n",
        "        break"
      ],
      "metadata": {
        "colab": {
          "base_uri": "https://localhost:8080/"
        },
        "id": "zNY65oNIVZCt",
        "outputId": "dbe1d4ae-addf-4e6f-ca14-4622e1a11d09"
      },
      "execution_count": null,
      "outputs": [
        {
          "output_type": "stream",
          "name": "stdout",
          "text": [
            "<re.Match object; span=(12, 24), match='615-555-7164'>\n",
            "<re.Match object; span=(102, 114), match='800-555-5669'>\n",
            "<re.Match object; span=(191, 203), match='560-555-5153'>\n",
            "<re.Match object; span=(281, 293), match='900-555-9340'>\n",
            "<re.Match object; span=(378, 390), match='714-555-7405'>\n",
            "<re.Match object; span=(467, 479), match='800-555-6771'>\n"
          ]
        }
      ]
    },
    {
      "cell_type": "code",
      "source": [
        "numbers = re.finditer(pattern, data)\n",
        "for i, num in enumerate(numbers):\n",
        "    print(num.group(), num.start(), num.end())\n",
        "    if (i==5):\n",
        "        break"
      ],
      "metadata": {
        "colab": {
          "base_uri": "https://localhost:8080/"
        },
        "id": "ySlPN_2yVp9c",
        "outputId": "0d7dff1f-f9aa-4d21-c220-a39811c5d1aa"
      },
      "execution_count": null,
      "outputs": [
        {
          "output_type": "stream",
          "name": "stdout",
          "text": [
            "615-555-7164 12 24\n",
            "800-555-5669 102 114\n",
            "560-555-5153 191 203\n",
            "900-555-9340 281 293\n",
            "714-555-7405 378 390\n",
            "800-555-6771 467 479\n"
          ]
        }
      ]
    },
    {
      "cell_type": "code",
      "source": [],
      "metadata": {
        "id": "Fn4cBwVUV25d"
      },
      "execution_count": null,
      "outputs": []
    }
  ]
}